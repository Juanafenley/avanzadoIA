{
  "nbformat": 4,
  "nbformat_minor": 0,
  "metadata": {
    "colab": {
      "provenance": [],
      "include_colab_link": true
    },
    "kernelspec": {
      "name": "python3",
      "display_name": "Python 3"
    },
    "language_info": {
      "name": "python"
    }
  },
  "cells": [
    {
      "cell_type": "markdown",
      "metadata": {
        "id": "view-in-github",
        "colab_type": "text"
      },
      "source": [
        "<a href=\"https://colab.research.google.com/github/Juanafenley/avanzadoIA/blob/main/pruebaStreamlit_py.ipynb\" target=\"_parent\"><img src=\"https://colab.research.google.com/assets/colab-badge.svg\" alt=\"Open In Colab\"/></a>"
      ]
    },
    {
      "cell_type": "code",
      "source": [
        "!pip install -q streamlit"
      ],
      "metadata": {
        "id": "3Be3vO1rl-n8"
      },
      "execution_count": null,
      "outputs": []
    },
    {
      "cell_type": "code",
      "execution_count": null,
      "metadata": {
        "id": "jSkUr8k1kDoc"
      },
      "outputs": [],
      "source": [
        "from tensorflow.keras.models import load_model\n",
        "from tensorflow.keras.applications.imagenet_utils import preprocess_input\n",
        "import numpy as np\n",
        "import streamlit as st\n",
        "from PIL import Image\n",
        "from google.colab import drive\n",
        "from skimage.transform import resize"
      ]
    },
    {
      "cell_type": "code",
      "source": [
        "names=[\"Elefante\", \"Mariposa\",\"Vaca\", \"Oveja\",\"Ardilla\"]"
      ],
      "metadata": {
        "id": "QVRhuE4Y3sUM"
      },
      "execution_count": null,
      "outputs": []
    },
    {
      "cell_type": "code",
      "source": [
        "def model_prediccion(img, model):\n",
        "  img_resize=resize(img, (224,224))\n",
        "  x= preprocess_input(img_resize*225)\n",
        "  x=np.expand_dims(x, axis=0)\n",
        "\n",
        "  preds=model.predict(x)\n",
        "  return preds\n"
      ],
      "metadata": {
        "id": "B7tEEFCdmLrp"
      },
      "execution_count": null,
      "outputs": []
    },
    {
      "cell_type": "code",
      "source": [
        "def main():\n",
        "  modelo=load_model(\"/content/drive/MyDrive/DATASET/modelo_animales1.h5/\")\n",
        "  st.title(\"Clasificador de Animales\")\n",
        "  img_file_buffer=st.file_uploader(\"Cargar una imagen\", type=[\"png\", \"jpg\", \"jpeg\"])\n",
        "  if img_file_buffer is not None:\n",
        "    image=np.array(Image.open(img_file_buffer))\n",
        "    st.image(image, caption=\"Imagen\", use_column_width=False)\n",
        "  if st.button(\"Predicción\"):\n",
        "    predict=model_prediccion(image, modelo)\n",
        "    st.success(\"La clase es:\".format(names[np.argmax(predict)]))"
      ],
      "metadata": {
        "id": "vdK7K4f8oEi3"
      },
      "execution_count": null,
      "outputs": []
    }
  ]
}